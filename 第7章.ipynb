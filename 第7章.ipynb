{
  "nbformat": 4,
  "nbformat_minor": 0,
  "metadata": {
    "colab": {
      "provenance": [],
      "authorship_tag": "ABX9TyNaS4GiJxOyIgkjUwjtY05p",
      "include_colab_link": true
    },
    "kernelspec": {
      "name": "python3",
      "display_name": "Python 3"
    },
    "language_info": {
      "name": "python"
    }
  },
  "cells": [
    {
      "cell_type": "markdown",
      "metadata": {
        "id": "view-in-github",
        "colab_type": "text"
      },
      "source": [
        "<a href=\"https://colab.research.google.com/github/cars1015/100knock-data_analytics/blob/main/%E7%AC%AC7%E7%AB%A0.ipynb\" target=\"_parent\"><img src=\"https://colab.research.google.com/assets/colab-badge.svg\" alt=\"Open In Colab\"/></a>"
      ]
    },
    {
      "cell_type": "code",
      "execution_count": 36,
      "metadata": {
        "colab": {
          "base_uri": "https://localhost:8080/"
        },
        "id": "zNOcrWv_lZ_z",
        "outputId": "61d46a35-8994-4d6e-ebf2-2a1d1e256e0c"
      },
      "outputs": [
        {
          "output_type": "stream",
          "name": "stdout",
          "text": [
            "Drive already mounted at /content/drive; to attempt to forcibly remount, call drive.mount(\"/content/drive\", force_remount=True).\n"
          ]
        }
      ],
      "source": [
        "import os\n",
        "from google.colab import drive\n",
        "drive.mount('/content/drive')"
      ]
    },
    {
      "cell_type": "code",
      "source": [
        "dir='/content/drive/My Drive/データ分析100本ノック/data'\n",
        "data_dir=os.path.join(dir+'/100knock-data_analytics/7')\n",
        "os.chdir(data_dir)"
      ],
      "metadata": {
        "id": "34m-2F9AldIN"
      },
      "execution_count": 37,
      "outputs": []
    },
    {
      "cell_type": "markdown",
      "source": [
        "ノック61"
      ],
      "metadata": {
        "id": "6jQ7khTMlfKO"
      }
    },
    {
      "cell_type": "code",
      "source": [
        "!pip install pulp\n",
        "!pip install ortoolpy"
      ],
      "metadata": {
        "colab": {
          "base_uri": "https://localhost:8080/"
        },
        "id": "HiPdXy2Mlmud",
        "outputId": "e55739b1-0a8b-4441-9807-c5db6b53aed7"
      },
      "execution_count": 38,
      "outputs": [
        {
          "output_type": "stream",
          "name": "stdout",
          "text": [
            "Requirement already satisfied: pulp in /usr/local/lib/python3.10/dist-packages (2.9.0)\n",
            "Requirement already satisfied: ortoolpy in /usr/local/lib/python3.10/dist-packages (0.4.0)\n",
            "Requirement already satisfied: more-itertools<9.0.0,>=8.13.0 in /usr/local/lib/python3.10/dist-packages (from ortoolpy) (8.14.0)\n",
            "Requirement already satisfied: pandas<2.0.0,>=1.4.3 in /usr/local/lib/python3.10/dist-packages (from ortoolpy) (1.5.3)\n",
            "Requirement already satisfied: pulp<3.0.0,>=2.6.0 in /usr/local/lib/python3.10/dist-packages (from ortoolpy) (2.9.0)\n",
            "Requirement already satisfied: python-dateutil>=2.8.1 in /usr/local/lib/python3.10/dist-packages (from pandas<2.0.0,>=1.4.3->ortoolpy) (2.8.2)\n",
            "Requirement already satisfied: pytz>=2020.1 in /usr/local/lib/python3.10/dist-packages (from pandas<2.0.0,>=1.4.3->ortoolpy) (2024.1)\n",
            "Requirement already satisfied: numpy>=1.21.0 in /usr/local/lib/python3.10/dist-packages (from pandas<2.0.0,>=1.4.3->ortoolpy) (1.26.4)\n",
            "Requirement already satisfied: six>=1.5 in /usr/local/lib/python3.10/dist-packages (from python-dateutil>=2.8.1->pandas<2.0.0,>=1.4.3->ortoolpy) (1.16.0)\n"
          ]
        }
      ]
    },
    {
      "cell_type": "code",
      "source": [
        "import numpy as np\n",
        "import pandas as pd\n",
        "from itertools import product\n",
        "from pulp import LpVariable, lpSum, value\n",
        "from ortoolpy import model_min,addvars,addvals\n",
        "\n",
        "#データ読み込み\n",
        "df_tc=pd.read_csv(\"trans_cost.csv\",index_col=\"工場\")\n",
        "df_demand=pd.read_csv(\"demand.csv\")\n",
        "df_supply=pd.read_csv(\"supply.csv\")\n",
        "\n",
        "#初期設定\n",
        "np.random.seed(1)\n",
        "nw=len(df_tc.index)\n",
        "nf=len(df_tc.columns)\n",
        "pr=list(product(range(nw),range(nf)))\n",
        "\n",
        "#数理モデル作成\n",
        "m1=model_min()\n",
        "v1={(i,j):LpVariable('v%d_%d'%(i,j),lowBound=0) for i,j in pr}\n",
        "\n",
        "m1+=lpSum(df_tc.iloc[i][j]*v1[i,j] for i,j in pr)\n",
        "for i in range(nw):\n",
        "  m1+=lpSum(v1[i,j] for j in range(nf))<=df_supply.iloc[0][i]\n",
        "for j in range(nf):\n",
        "  m1+=lpSum(v1[i,j] for i in range(nw))>=df_demand.iloc[0][j]\n",
        "m1.solve()\n",
        "\n",
        "#輸送コスト計算#\n",
        "df_tr_sol=df_tc.copy()\n",
        "total_cost=0\n",
        "for k,x in v1.items():\n",
        "  i,j=k[0],k[1]\n",
        "  df_tr_sol.iloc[i][j]=value(x)\n",
        "  total_cost+=df_tc.iloc[i][j]*value(x)\n",
        "print(df_tr_sol)\n",
        "print(\"総輸送コスト：\",total_cost)"
      ],
      "metadata": {
        "colab": {
          "base_uri": "https://localhost:8080/"
        },
        "id": "7OSGaee_l0wl",
        "outputId": "689e3d88-7b0a-4d35-bafb-834af2e2934c"
      },
      "execution_count": 39,
      "outputs": [
        {
          "output_type": "stream",
          "name": "stdout",
          "text": [
            "    F1  F2  F3  F4\n",
            "工場                \n",
            "W1  28   7   0   0\n",
            "W2   0   0  31   5\n",
            "W3   0  22   0  20\n",
            "総輸送コスト： 1296.0\n"
          ]
        }
      ]
    },
    {
      "cell_type": "markdown",
      "source": [
        "ノック62"
      ],
      "metadata": {
        "id": "pwfiqxjdodFr"
      }
    },
    {
      "cell_type": "code",
      "source": [
        "import matplotlib.pyplot as plt\n",
        "import networkx as nx\n",
        "\n",
        "df_tr=df_tr_sol.copy()\n",
        "df_pos=pd.read_csv(\"trans_route_pos.csv\")\n",
        "\n",
        "#グラフオブジェクトの作成\n",
        "G=nx.Graph()\n",
        "\n",
        "#頂点の設定\n",
        "for i in range(len(df_pos.columns)):\n",
        "  G.add_node(df_pos.columns[i])\n",
        "\n",
        "num_pre=0\n",
        "edges_weight=[]\n",
        "size=0.1\n",
        "for i in range(df_pos.shape[1]):\n",
        "  for j in range(len(df_pos.columns)):\n",
        "    if not(i==j):\n",
        "      G.add_edge(df_pos.columns[i],df_pos.columns[j])\n",
        "      if num_pre<len(G.edges):\n",
        "        num_pre=len(G.edges)\n",
        "        weight=0\n",
        "        if(df_pos.columns[i] in df_tr.columns) and (df_pos.columns[j] in df_tr.index):\n",
        "          if df_tr[df_pos.columns[i]][df_pos.columns[j]]:\n",
        "            weight=df_tr[df_pos.columns[i]][df_pos.columns[j]]*size\n",
        "        elif (df_pos.columns[j] in df_tr.columns) and (df_pos.columns[i] in df_tr.index):\n",
        "          if df_tr[df_pos.columns[j]][df_pos.columns[i]]:\n",
        "            weight=df_tr[df_pos.columns[j]][df_pos.columns[i]]*size\n",
        "        edges_weight.append(weight)\n",
        "#座標の設定\n",
        "pos={}\n",
        "for i in range(len(df_pos.columns)):\n",
        "  node=df_pos.columns[i]\n",
        "  pos[node]=(df_pos[node][0],df_pos[node][1])\n",
        "\n",
        "#描画\n",
        "nx.draw(G,pos,with_labels=True,font_size=16,node_size=1000,node_color=\"k\",font_color=\"w\",width=edges_weight)\n",
        "plt.show()"
      ],
      "metadata": {
        "colab": {
          "base_uri": "https://localhost:8080/",
          "height": 516
        },
        "id": "jrX_L3TLmI7s",
        "outputId": "4d3886af-9ee0-4a49-df32-34197d92944d"
      },
      "execution_count": 40,
      "outputs": [
        {
          "output_type": "display_data",
          "data": {
            "text/plain": [
              "<Figure size 640x480 with 1 Axes>"
            ],
            "image/png": "[encoded data removed]"
          },
          "metadata": {}
        }
      ]
    },
    {
      "cell_type": "markdown",
      "source": [
        "ノック63"
      ],
      "metadata": {
        "id": "Qg1XhaEurI2_"
      }
    },
    {
      "cell_type": "code",
      "source": [
        "df_demand=pd.read_csv(\"demand.csv\")\n",
        "df_supply=pd.read_csv(\"supply.csv\")\n",
        "\n",
        "#制約条件計算\n",
        "#需要側\n",
        "def condition_demand(df_tr,df_demand):\n",
        "  flag=np.zeros(df_demand.shape[1])\n",
        "  for i in range(df_demand.shape[1]):\n",
        "    tmp_sum=sum(df_tr[df_demand.columns[i]])\n",
        "    if tmp_sum>=df_demand.iloc[0][i]:\n",
        "      flag[i]=1\n",
        "  return flag\n",
        "\n",
        "#供給側\n",
        "def condition_supply(df_tr,df_supply):\n",
        "  flag=np.zeros(df_supply.shape[1])\n",
        "  for i in range(df_supply.shape[1]):\n",
        "    temp_sum=sum(df_tr.loc[df_supply.columns[i]])\n",
        "    if temp_sum<=df_supply.iloc[0][i]:\n",
        "      flag[i]=1\n",
        "  return flag\n",
        "\n",
        "print(\"需要条件計算結果\"+str(condition_demand(df_tr_sol,df_demand)))\n",
        "print(\"供給条件計算結果\"+str(condition_supply(df_tr_sol,df_supply)))\n"
      ],
      "metadata": {
        "colab": {
          "base_uri": "https://localhost:8080/"
        },
        "id": "ffocx6qrqOxG",
        "outputId": "847dcc5c-c16d-4d1d-c47b-07d8931873eb"
      },
      "execution_count": 41,
      "outputs": [
        {
          "output_type": "stream",
          "name": "stdout",
          "text": [
            "需要条件計算結果[1. 1. 1. 1.]\n",
            "供給条件計算結果[1. 1. 1.]\n"
          ]
        }
      ]
    },
    {
      "cell_type": "markdown",
      "source": [
        "ノック64"
      ],
      "metadata": {
        "id": "pJfFFcFI_nRr"
      }
    },
    {
      "cell_type": "code",
      "source": [
        "df_material=pd.read_csv(\"product_plan_material.csv\",index_col=\"製品\")\n",
        "df_profit=pd.read_csv(\"product_plan_profit.csv\",index_col=\"製品\")\n",
        "print(df_profit)\n",
        "df_stock=pd.read_csv(\"product_plan_stock.csv\",index_col=\"項目\")\n",
        "print(df_stock)\n",
        "df_plan=pd.read_csv(\"product_plan.csv\",index_col=\"製品\")\n",
        "print(df_plan)"
      ],
      "metadata": {
        "colab": {
          "base_uri": "https://localhost:8080/"
        },
        "id": "vdhYzGrrq1OP",
        "outputId": "44e99246-50fd-42b9-d892-d2b7d2817e4b"
      },
      "execution_count": 42,
      "outputs": [
        {
          "output_type": "stream",
          "name": "stdout",
          "text": [
            "      利益\n",
            "製品      \n",
            "製品1  5.0\n",
            "製品2  4.0\n",
            "    原料1  原料2  原料3\n",
            "項目               \n",
            "在庫   40   80   50\n",
            "      生産量\n",
            "製品       \n",
            "製品1    16\n",
            "製品2     0\n"
          ]
        }
      ]
    },
    {
      "cell_type": "markdown",
      "source": [
        "ノック65"
      ],
      "metadata": {
        "id": "7Ol_ZFa_Acd_"
      }
    },
    {
      "cell_type": "code",
      "source": [
        "#利益計算関数\n",
        "def product_plan(df_profit,df_plan):\n",
        "  profit=0\n",
        "  for i in range(len(df_profit.index)):\n",
        "    for j in range(len(df_profit.columns)):\n",
        "      profit+=df_profit.iloc[i][j]*df_plan.iloc[i][j]\n",
        "  return profit\n",
        "\n",
        "print(\"総利益\",product_plan(df_profit,df_plan))"
      ],
      "metadata": {
        "colab": {
          "base_uri": "https://localhost:8080/"
        },
        "id": "E2ajOKGuAH5x",
        "outputId": "99f7a364-3727-4a80-dc14-b3f5621eb484"
      },
      "execution_count": 43,
      "outputs": [
        {
          "output_type": "stream",
          "name": "stdout",
          "text": [
            "総利益 80.0\n"
          ]
        }
      ]
    },
    {
      "cell_type": "markdown",
      "source": [
        "ノック66"
      ],
      "metadata": {
        "id": "5ZTxRdIaBBkZ"
      }
    },
    {
      "cell_type": "code",
      "source": [
        "from pulp import LpVariable,lpSum,value\n",
        "from ortoolpy import model_max,addvars,addvals\n",
        "\n",
        "df=df_material.copy()\n",
        "inv=df_stock\n",
        "\n",
        "m=model_max()\n",
        "v1={(i):LpVariable(\"v%d\"%(i),lowBound=0) for i in range(len(df_profit))}\n",
        "\n",
        "m+=lpSum(df_profit.iloc[i]*v1[i] for i in range(len(df_profit)))\n",
        "for i in range(df_material.shape[1]):\n",
        "  m+= lpSum(df_material.iloc[j,i]*v1[j] for j in range(len(df_profit))) <= df_stock.iloc[:,i]\n",
        "m.solve()\n",
        "\n",
        "df_plan_sol=df_plan.copy()\n",
        "for k,x in v1.items():\n",
        "  df_plan_sol.iloc[k]=value(x)\n",
        "print(df_plan_sol)\n",
        "print(\"総利益\",product_plan(df_profit,df_plan_sol))"
      ],
      "metadata": {
        "colab": {
          "base_uri": "https://localhost:8080/"
        },
        "id": "wImaU_k0A_zY",
        "outputId": "cde9ac97-57dd-4c1e-b029-baee582c948d"
      },
      "execution_count": 44,
      "outputs": [
        {
          "output_type": "stream",
          "name": "stdout",
          "text": [
            "      生産量\n",
            "製品       \n",
            "製品1    15\n",
            "製品2     5\n",
            "総利益 95.0\n"
          ]
        }
      ]
    },
    {
      "cell_type": "markdown",
      "source": [
        "ノック67"
      ],
      "metadata": {
        "id": "EWcBGoGLEyYR"
      }
    },
    {
      "cell_type": "code",
      "source": [
        "def condition_stock(df_plan,df_material,df_stock):\n",
        "  flag=np.zeros(len(df_material.columns))\n",
        "  for i in range(len(df_material.columns)):\n",
        "    temp_sum=0\n",
        "    for j in range(len(df_material.index)):\n",
        "      temp_sum=temp_sum+df_material.iloc[j][i]*float(df_plan.iloc[j])\n",
        "      if(temp_sum<=float(df_stock.iloc[0][i])):\n",
        "        flag[i]=1\n",
        "      print(df_material.columns[i]+\"使用料:\"+str(temp_sum)+\",在庫\"+str(float(df_stock.iloc[0][i])))\n",
        "  return flag\n",
        "\n",
        "print(\"制約条件計算過程:\"+str(condition_stock(df_plan_sol,df_material,df_stock)))"
      ],
      "metadata": {
        "colab": {
          "base_uri": "https://localhost:8080/"
        },
        "id": "gDN5ZlZFDmrO",
        "outputId": "6e87c6e2-6ef4-4566-98a8-54fa0656425e"
      },
      "execution_count": 45,
      "outputs": [
        {
          "output_type": "stream",
          "name": "stdout",
          "text": [
            "原料1使用料:15.0,在庫40.0\n",
            "原料1使用料:25.0,在庫40.0\n",
            "原料2使用料:60.0,在庫80.0\n",
            "原料2使用料:80.0,在庫80.0\n",
            "原料3使用料:45.0,在庫50.0\n",
            "原料3使用料:50.0,在庫50.0\n",
            "制約条件計算過程:[1. 1. 1.]\n"
          ]
        }
      ]
    },
    {
      "cell_type": "markdown",
      "source": [
        "ノック68"
      ],
      "metadata": {
        "id": "quuCwznaGGnZ"
      }
    },
    {
      "cell_type": "code",
      "source": [
        "製品=list(\"AB\")\n",
        "需要地=list(\"PQ\")\n",
        "工場=list(\"XY\")\n",
        "レーン=(2,2)\n",
        "\n",
        "#輸送費表\n",
        "tbdi=pd.DataFrame(((j,k) for j in 需要地 for k in 工場), columns=[\"需要地\",\"工場\"])\n",
        "tbdi[\"輸送費\"]=[1,2,3,1]\n",
        "print(tbdi)\n",
        "\n",
        "#需要表#\n",
        "tbde=pd.DataFrame(((j,i) for j in 需要地 for i in 製品),columns=['需要地','製品'])\n",
        "tbde['需要']=[10,10,20,20]\n",
        "print(tbde)\n",
        "\n",
        "#生産表\n",
        "tbfa=pd.DataFrame(((k,l,i,0,np.inf) for k ,nl in zip(工場,レーン)for l in range(nl) for i in 製品),columns=['工場','レーン','製品','下限','上限'])\n",
        "tbfa[\"生産費\"]=[1,np.nan,np.nan,1,3,np.nan,5,3]\n",
        "tbfa.dropna(inplace=True)\n",
        "tbfa.loc[4,\"上限\"]=10\n",
        "print(tbfa)\n",
        "\n",
        "from ortoolpy import logistics_network\n",
        "_,tbdi2,_=logistics_network(tbde,tbdi,tbfa)\n",
        "print(tbfa)\n",
        "print(tbdi2)\n"
      ],
      "metadata": {
        "colab": {
          "base_uri": "https://localhost:8080/"
        },
        "id": "fA5_q7KdF6Er",
        "outputId": "31307db0-d43f-4ec7-ebe5-481a00ccc5e4"
      },
      "execution_count": 48,
      "outputs": [
        {
          "output_type": "stream",
          "name": "stdout",
          "text": [
            "  需要地 工場  輸送費\n",
            "0   P  X    1\n",
            "1   P  Y    2\n",
            "2   Q  X    3\n",
            "3   Q  Y    1\n",
            "  需要地 製品  需要\n",
            "0   P  A  10\n",
            "1   P  B  10\n",
            "2   Q  A  20\n",
            "3   Q  B  20\n",
            "  工場  レーン 製品  下限    上限  生産費\n",
            "0  X    0  A   0   inf  1.0\n",
            "3  X    1  B   0   inf  1.0\n",
            "4  Y    0  A   0  10.0  3.0\n",
            "6  Y    1  A   0   inf  5.0\n",
            "7  Y    1  B   0   inf  3.0\n",
            "  工場  レーン 製品  下限    上限  生産費     VarY  ValY\n",
            "0  X    0  A   0   inf  1.0  v000009  20.0\n",
            "3  X    1  B   0   inf  1.0  v000010  10.0\n",
            "4  Y    0  A   0  10.0  3.0  v000011  10.0\n",
            "6  Y    1  A   0   inf  5.0  v000012   0.0\n",
            "7  Y    1  B   0   inf  3.0  v000013  20.0\n",
            "  需要地 工場  輸送費 製品     VarX  ValX\n",
            "0   P  X    1  A  v000001  10.0\n",
            "1   P  X    1  B  v000002  10.0\n",
            "2   Q  X    3  A  v000003  10.0\n",
            "3   Q  X    3  B  v000004   0.0\n",
            "4   P  Y    2  A  v000005   0.0\n",
            "5   P  Y    2  B  v000006   0.0\n",
            "6   Q  Y    1  A  v000007  10.0\n",
            "7   Q  Y    1  B  v000008  20.0\n"
          ]
        },
        {
          "output_type": "stream",
          "name": "stderr",
          "text": [
            "/usr/local/lib/python3.10/dist-packages/ortoolpy/etc.py:1213: FutureWarning: In a future version of pandas all arguments of concat except for the argument 'objs' will be keyword-only.\n",
            "  tbsm = pd.concat([tbdi2.groupby(facprd).VarX.sum(), tbfa.groupby(facprd).VarY.sum()], 1)\n"
          ]
        }
      ]
    },
    {
      "cell_type": "markdown",
      "source": [
        "ノック69"
      ],
      "metadata": {
        "id": "uZcb4Lgnkoqx"
      }
    },
    {
      "cell_type": "code",
      "source": [
        "print(\"tbdi2\")\n",
        "trans_cost=0\n",
        "for i in range(len(tbdi2.index)):\n",
        "  trans_cost+=tbdi2[\"輸送費\"].iloc[i]*tbdi2[\"ValX\"].iloc[i]\n",
        "print(\"総輸送コスト\"+str(trans_cost))"
      ],
      "metadata": {
        "colab": {
          "base_uri": "https://localhost:8080/"
        },
        "id": "wDG5wrTqjRoP",
        "outputId": "f9dccc86-52fa-4f42-b34c-6c4d96529a4f"
      },
      "execution_count": 49,
      "outputs": [
        {
          "output_type": "stream",
          "name": "stdout",
          "text": [
            "tbdi2\n",
            "総輸送コスト80.0\n"
          ]
        }
      ]
    },
    {
      "cell_type": "markdown",
      "source": [
        "ノック70"
      ],
      "metadata": {
        "id": "VU3aaqdXlaBt"
      }
    },
    {
      "cell_type": "code",
      "source": [
        "print(tbfa)\n",
        "product_cost=0\n",
        "for i in range(len(tbfa.index)):\n",
        "  product_cost+=tbfa[\"生産費\"].iloc[i]*tbfa[\"ValY\"].iloc[i]\n",
        "print(\"総生産コスト\"+str(product_cost))"
      ],
      "metadata": {
        "colab": {
          "base_uri": "https://localhost:8080/"
        },
        "id": "IN8FDiYklPpN",
        "outputId": "434b2027-9552-474d-8c65-18f8ebf1f0c6"
      },
      "execution_count": 51,
      "outputs": [
        {
          "output_type": "stream",
          "name": "stdout",
          "text": [
            "  工場  レーン 製品  下限    上限  生産費     VarY  ValY\n",
            "0  X    0  A   0   inf  1.0  v000009  20.0\n",
            "3  X    1  B   0   inf  1.0  v000010  10.0\n",
            "4  Y    0  A   0  10.0  3.0  v000011  10.0\n",
            "6  Y    1  A   0   inf  5.0  v000012   0.0\n",
            "7  Y    1  B   0   inf  3.0  v000013  20.0\n",
            "総生産コスト120.0\n"
          ]
        }
      ]
    }
  ]
}